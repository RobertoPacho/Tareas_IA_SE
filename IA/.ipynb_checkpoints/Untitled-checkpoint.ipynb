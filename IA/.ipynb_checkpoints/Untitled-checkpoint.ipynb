{
 "cells": [
  {
   "cell_type": "markdown",
   "metadata": {},
   "source": [
    "# NEO4J diferencias entre community y enterprise\n",
    "\n",
    "#  Community\n",
    "Neo4j Community es gratuita y de codigo abierto de Neo4j es una base de datos transaccional completamente ACID de alto rendimiento.\n",
    "\n",
    "* Es una base de datos de graficos con todas las funciones lo que mas destaca de esta version que usa licancia GPLv3.\n",
    "* GPL significa que Neo4j Community Edition se puede usar de forma gratuita con cualquier proyecto, estos pueden estar en la nube o detras del firewall.\n",
    "\n",
    "# Enterprise \n",
    "\n",
    "Diseñado para implementaciones comerciales además incluye funciones clave para el rendimiento y la escalabilidad, además de clústeres escalables, alta disponibilidad y copias de seguridad en vivo.\n",
    " \n",
    " * licencia Comercial Neo4j\n",
    " * licencia de evaluación de Neo4j\n",
    " * Licencia educativa Neo4j\n",
    " \n",
    "Mas detalles y diferencias visite:\n",
    "\n",
    "http://vschart.com/compare/neo4j-community/vs/neo4j\n"
   ]
  },
  {
   "cell_type": "code",
   "execution_count": null,
   "metadata": {},
   "outputs": [],
   "source": []
  }
 ],
 "metadata": {
  "kernelspec": {
   "display_name": "Python 3",
   "language": "python",
   "name": "python3"
  },
  "language_info": {
   "codemirror_mode": {
    "name": "ipython",
    "version": 3
   },
   "file_extension": ".py",
   "mimetype": "text/x-python",
   "name": "python",
   "nbconvert_exporter": "python",
   "pygments_lexer": "ipython3",
   "version": "3.7.6"
  }
 },
 "nbformat": 4,
 "nbformat_minor": 4
}
