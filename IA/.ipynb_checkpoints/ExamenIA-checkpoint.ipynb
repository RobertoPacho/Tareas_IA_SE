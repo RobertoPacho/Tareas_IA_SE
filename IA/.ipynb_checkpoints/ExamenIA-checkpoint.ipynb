{
 "cells": [
  {
   "cell_type": "code",
   "execution_count": 6,
   "metadata": {},
   "outputs": [
    {
     "ename": "TclError",
     "evalue": "bad option \"-bg\": must be -column, -columnspan, -in, -ipadx, -ipady, -padx, -pady, -row, -rowspan, or -sticky",
     "output_type": "error",
     "traceback": [
      "\u001b[0;31m---------------------------------------------------------------------------\u001b[0m",
      "\u001b[0;31mTclError\u001b[0m                                  Traceback (most recent call last)",
      "\u001b[0;32m<ipython-input-6-bb25f0503a38>\u001b[0m in \u001b[0;36m<module>\u001b[0;34m\u001b[0m\n\u001b[1;32m     11\u001b[0m \u001b[0mbtn2\u001b[0m \u001b[0;34m=\u001b[0m \u001b[0mButton\u001b[0m\u001b[0;34m(\u001b[0m\u001b[0mwindow\u001b[0m\u001b[0;34m,\u001b[0m \u001b[0mtext\u001b[0m\u001b[0;34m=\u001b[0m\u001b[0;34m\"Recomendaciones\"\u001b[0m\u001b[0;34m)\u001b[0m\u001b[0;34m\u001b[0m\u001b[0;34m\u001b[0m\u001b[0m\n\u001b[1;32m     12\u001b[0m \u001b[0;34m\u001b[0m\u001b[0m\n\u001b[0;32m---> 13\u001b[0;31m \u001b[0mbtn1\u001b[0m\u001b[0;34m.\u001b[0m\u001b[0mgrid\u001b[0m\u001b[0;34m(\u001b[0m\u001b[0mcolumn\u001b[0m\u001b[0;34m=\u001b[0m\u001b[0;36m1\u001b[0m\u001b[0;34m,\u001b[0m \u001b[0mrow\u001b[0m\u001b[0;34m=\u001b[0m\u001b[0;36m0\u001b[0m\u001b[0;34m,\u001b[0m \u001b[0mbg\u001b[0m\u001b[0;34m=\u001b[0m\u001b[0;34m\"orange\"\u001b[0m\u001b[0;34m,\u001b[0m \u001b[0mfg\u001b[0m\u001b[0;34m=\u001b[0m\u001b[0;34m\"red\"\u001b[0m\u001b[0;34m)\u001b[0m\u001b[0;34m\u001b[0m\u001b[0;34m\u001b[0m\u001b[0m\n\u001b[0m\u001b[1;32m     14\u001b[0m \u001b[0mbtn2\u001b[0m\u001b[0;34m.\u001b[0m\u001b[0mgrid\u001b[0m\u001b[0;34m(\u001b[0m\u001b[0mcolumn\u001b[0m\u001b[0;34m=\u001b[0m\u001b[0;36m2\u001b[0m\u001b[0;34m,\u001b[0m \u001b[0mrow\u001b[0m\u001b[0;34m=\u001b[0m\u001b[0;36m0\u001b[0m\u001b[0;34m)\u001b[0m\u001b[0;34m\u001b[0m\u001b[0;34m\u001b[0m\u001b[0m\n\u001b[1;32m     15\u001b[0m \u001b[0;34m\u001b[0m\u001b[0m\n",
      "\u001b[0;32m/home/RobertoPacho/anaconda3/lib/python3.8/tkinter/__init__.py\u001b[0m in \u001b[0;36mgrid_configure\u001b[0;34m(self, cnf, **kw)\u001b[0m\n\u001b[1;32m   2482\u001b[0m                       \u001b[0mwidget\u001b[0m \u001b[0mstick\u001b[0m \u001b[0mto\u001b[0m \u001b[0mthe\u001b[0m \u001b[0mcell\u001b[0m \u001b[0mboundary\u001b[0m\u001b[0;34m\u001b[0m\u001b[0;34m\u001b[0m\u001b[0m\n\u001b[1;32m   2483\u001b[0m         \"\"\"\n\u001b[0;32m-> 2484\u001b[0;31m         self.tk.call(\n\u001b[0m\u001b[1;32m   2485\u001b[0m               \u001b[0;34m(\u001b[0m\u001b[0;34m'grid'\u001b[0m\u001b[0;34m,\u001b[0m \u001b[0;34m'configure'\u001b[0m\u001b[0;34m,\u001b[0m \u001b[0mself\u001b[0m\u001b[0;34m.\u001b[0m\u001b[0m_w\u001b[0m\u001b[0;34m)\u001b[0m\u001b[0;34m\u001b[0m\u001b[0;34m\u001b[0m\u001b[0m\n\u001b[1;32m   2486\u001b[0m               + self._options(cnf, kw))\n",
      "\u001b[0;31mTclError\u001b[0m: bad option \"-bg\": must be -column, -columnspan, -in, -ipadx, -ipady, -padx, -pady, -row, -rowspan, or -sticky"
     ]
    }
   ],
   "source": [
    "from tkinter import *\n",
    "\n",
    "window = Tk()\n",
    "\n",
    "window.title(\"Examen IA\")\n",
    "\n",
    "window.geometry('350x200')\n",
    "\n",
    "\n",
    "btn1 = Button(window, text=\"Jugar\",bg=\"orange\", fg=\"red\")\n",
    "btn2 = Button(window, text=\"Recomendaciones\")\n",
    "\n",
    "btn1.grid(column=1, row=0)\n",
    "btn2.grid(column=2, row=0)\n",
    "\n",
    "window.mainloop()"
   ]
  },
  {
   "cell_type": "code",
   "execution_count": null,
   "metadata": {},
   "outputs": [],
   "source": [
    "\"\"\" This is the example featured in section 'A quick example' of the docs \"\"\"\n",
    "\n",
    "from easyAI import TwoPlayersGame\n",
    "\n",
    "\n",
    "class GameOfBones(TwoPlayersGame):\n",
    "    \"\"\" In turn, the players remove one, two or three bones from a\n",
    "    pile of bones. The player who removes the last bone loses. \"\"\"\n",
    "\n",
    "    def __init__(self, players):\n",
    "        self.players = players\n",
    "        self.pile = 20 # start with 20 bones in the pile\n",
    "        self.nplayer = 1 # player 1 starts\n",
    "\n",
    "    def possible_moves(self): return ['1', '2', '3']\n",
    "\n",
    "    def make_move(self, move): self.pile -= int(move) # remove bones.\n",
    "\n",
    "    def win(self): return self.pile <= 0 # opponent took the last bone ?\n",
    "\n",
    "    def is_over(self): return self.win() # game stops when someone wins.\n",
    "\n",
    "    def scoring(self): return 100 if self.win() else 0\n",
    "\n",
    "    def show(self): print(\"%d bones left in the pile\" % (self.pile))\n",
    "\n",
    "\n",
    "if __name__ == \"__main__\":\n",
    "    \"\"\"\n",
    "    Start a match (and store the history of moves when it ends)\n",
    "    ai = Negamax(10) # The AI will think 10 moves in advance \n",
    "    game = GameOfBones( [ AI_Player(ai), Human_Player() ] )\n",
    "    history = game.play()\n",
    "    \"\"\"\n",
    "\n",
    "    # Let's solve the game\n",
    "\n",
    "    from easyAI import id_solve, Human_Player, AI_Player\n",
    "    from easyAI.AI import TT\n",
    "\n",
    "    tt = TT()\n",
    "    GameOfBones.ttentry = lambda self: self.pile\n",
    "    r, d, m = id_solve(GameOfBones, range(2, 20), win_score = 100, tt = tt)\n",
    "    print(r, d, m)  # see the docs.\n",
    "\n",
    "    # Unbeatable AI !\n",
    "\n",
    "    game = GameOfBones([AI_Player(tt), Human_Player()])\n",
    "    game.play() # you will always lose this game :)"
   ]
  }
 ],
 "metadata": {
  "kernelspec": {
   "display_name": "Python 3",
   "language": "python",
   "name": "python3"
  },
  "language_info": {
   "codemirror_mode": {
    "name": "ipython",
    "version": 3
   },
   "file_extension": ".py",
   "mimetype": "text/x-python",
   "name": "python",
   "nbconvert_exporter": "python",
   "pygments_lexer": "ipython3",
   "version": "3.8.5"
  }
 },
 "nbformat": 4,
 "nbformat_minor": 4
}
