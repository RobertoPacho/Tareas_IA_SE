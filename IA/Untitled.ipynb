{
 "cells": [
  {
   "cell_type": "markdown",
   "metadata": {},
   "source": [
    "# NEO4J diferencias entre community y enterprise\n",
    "\n",
    "#  Community\n",
    "Neo4j Community Edition es completamente de código abierto, licenciado y distribuido bajo GPL v3. Neo4j ofrece una serie de opciones de licencias comerciales, descritas anteriormente: tanto de pago como gratuitas , incluidas licencias gratuitas para desarrollo, puesta en marcha, usos académico-educativos y, por supuesto, evaluación de cursos.\n",
    "\n"
   ]
  }
 ],
 "metadata": {
  "kernelspec": {
   "display_name": "Python 3",
   "language": "python",
   "name": "python3"
  },
  "language_info": {
   "codemirror_mode": {
    "name": "ipython",
    "version": 3
   },
   "file_extension": ".py",
   "mimetype": "text/x-python",
   "name": "python",
   "nbconvert_exporter": "python",
   "pygments_lexer": "ipython3",
   "version": "3.7.6"
  }
 },
 "nbformat": 4,
 "nbformat_minor": 4
}
