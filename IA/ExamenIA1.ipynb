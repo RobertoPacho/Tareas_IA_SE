{
 "cells": [
  {
   "cell_type": "code",
   "execution_count": 1,
   "metadata": {},
   "outputs": [],
   "source": [
    "from tkinter import *\n",
    "import tkinter.font as tkFont\n",
    "import gym\n",
    "\n",
    "# Configuración de la raíz\n",
    "root = Tk()\n",
    "root.title(\"Examen IA\")\n",
    "root.resizable(1,1)\n",
    "\n",
    "frame = Frame(root, width=480, height=320)\n",
    "frame.pack(fill='both', expand=1)\n",
    "frame.config(cursor=\"pirate\")\n",
    "frame.config(bg=\"lightblue\")\n",
    "frame.config(bd=25)\n",
    "frame.config(relief=\"sunken\")\n",
    "\n",
    "def juego():\n",
    "    \n",
    "    env = gym.make('MountainCarContinuous-v0')\n",
    "    env.reset()\n",
    "    for _ in range(1000):\n",
    "        env.render()\n",
    "        env.step(env.action_space.sample()) # take a random action\n",
    "    env.close()\n",
    "\n",
    "def recomendacion():    \n",
    "    vjuego = Frame(frame, width=480, height=320)\n",
    "    vjuego.grid(row=0, column=2, padx=10, pady=3, ipadx=20, ipady=20)\n",
    "    \n",
    "    fontStyle = tkFont.Font(family=\"Lucida Grande\", size=12)\n",
    "    txto = Entry(vjuego, fg='black', bg='white', justify='center')\n",
    "    txto.place(x=110, y=100, width=50)           \n",
    "    tipo=Label(vjuego,text='%d huesos que quedan en la pila', font=fontStyle)\n",
    "    tipo.place(x=20,y=2)\n",
    "    etomo=Label(vjuego,text='voy a tomar: ', font=fontStyle)\n",
    "    etomo.place(x=10,y=100)\n",
    "    \n",
    "    etomo1=Label(vjuego,text='huesos: ', font=fontStyle)\n",
    "    etomo1.place(x=165,y=100)\n",
    "\n",
    "    #ImageTk.PhotoImage(new_img)\n",
    "\n",
    "\n",
    "btn1 = Button(frame, text=\"Jugar\", bg=\"MediumAquamarine\", fg=\"white\", height = 2, width = 15,command=juego)\n",
    "btn2 = Button(frame, text=\"Recomendaciones\", bg=\"MediumAquamarine\", fg=\"white\", height = 2, width = 15)\n",
    "\n",
    "btn1.grid(column=1, row=0)\n",
    "btn2.grid(column=2, row=0)\n",
    "\n",
    "root.config(cursor=\"arrow\")\n",
    "root.config(bg=\"blue\")\n",
    "root.config(bd=15)\n",
    "root.config(relief=\"ridge\")\n",
    "\n",
    "\n",
    "\n",
    "# Finalmente bucle de la aplicación\n",
    "root.mainloop()"
   ]
  },
  {
   "cell_type": "code",
   "execution_count": null,
   "metadata": {},
   "outputs": [],
   "source": []
  },
  {
   "cell_type": "code",
   "execution_count": null,
   "metadata": {},
   "outputs": [],
   "source": []
  },
  {
   "cell_type": "code",
   "execution_count": null,
   "metadata": {},
   "outputs": [],
   "source": []
  },
  {
   "cell_type": "code",
   "execution_count": null,
   "metadata": {},
   "outputs": [],
   "source": []
  },
  {
   "cell_type": "code",
   "execution_count": null,
   "metadata": {},
   "outputs": [],
   "source": []
  },
  {
   "cell_type": "code",
   "execution_count": null,
   "metadata": {},
   "outputs": [],
   "source": []
  }
 ],
 "metadata": {
  "kernelspec": {
   "display_name": "Python 3",
   "language": "python",
   "name": "python3"
  },
  "language_info": {
   "codemirror_mode": {
    "name": "ipython",
    "version": 3
   },
   "file_extension": ".py",
   "mimetype": "text/x-python",
   "name": "python",
   "nbconvert_exporter": "python",
   "pygments_lexer": "ipython3",
   "version": "3.8.5"
  }
 },
 "nbformat": 4,
 "nbformat_minor": 4
}
