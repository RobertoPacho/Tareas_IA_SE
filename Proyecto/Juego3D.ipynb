{
 "cells": [
  {
   "cell_type": "code",
   "execution_count": null,
   "metadata": {
    "scrolled": false
   },
   "outputs": [],
   "source": [
    "from ursina import *\n",
    "\n",
    "class Test_cube(Entity):\n",
    "    def __init__(self):\n",
    "        super().__init__(\n",
    "            model='cube',\n",
    "            color=color.white,\n",
    "            texture='white_cube',\n",
    "            rotation= Vec3(45,45,45)\n",
    "        )\n",
    "class Test_button(Button):\n",
    "    def __init__(self):\n",
    "        super().__init__(\n",
    "            parent=scene,\n",
    "            model='cube',\n",
    "            texture='brick',\n",
    "            color=color.blue,\n",
    "            highlight_color=color.red,\n",
    "            pressed_color=color.lime\n",
    "        )\n",
    "    def input(self,key):\n",
    "        if self.hovered:\n",
    "            print('boron precionado')\n",
    "def update():\n",
    "    if held_keys['a']:\n",
    "        test_square.x -= 4 * time.dt\n",
    "    \n",
    "\n",
    "app = Ursina()\n",
    "\n",
    "test_square=Entity(model = 'quad',color=color.red,scale=(1,4),position=(5,4))\n",
    "\n",
    "#sans_texture= load_texture('fondo3.JPEG')\n",
    "sans=Entity(model='quad',texture= 'assets/Sans.png')\n",
    "\n",
    "#text_cube=Test_cube()\n",
    "text_cube=Test_button()\n",
    "app.run()"
   ]
  },
  {
   "cell_type": "code",
   "execution_count": null,
   "metadata": {},
   "outputs": [
    {
     "name": "stdout",
     "output_type": "stream",
     "text": [
      "ursina version: 3.4.0\n",
      "package_folder: /home/RobertoPacho/anaconda3/lib/python3.8/site-packages/ursina\n",
      "asset_folder: /home/RobertoPacho/anaconda3/lib/python3.8/site-packages\n",
      "blender_paths:\n",
      "{}\n",
      "OS: posix\n",
      "screen resolution: (1920, 1080)\n",
      "size; LVector2f(1536, 864)\n",
      "render mode: default\n",
      "no settings.py file\n",
      "info: psd-tools3 not installed\n",
      "no settings.py file\n",
      "development mode: True\n",
      "application successfully started\n",
      "no filter quad\n",
      "changed aspect ratio: 1.777 -> 1.778\n"
     ]
    }
   ],
   "source": [
    "from ursina import *\n",
    "from ursina.prefabs.first_person_controller import FirstPersonController #simulador de una persona\n",
    "\n",
    "app= Ursina()\n",
    "\n",
    "grass_texture= load_texture('![imagenes/grass_block.png](attachment:imagenes/grass_block.png)')\n",
    "#stone_texture= load_texture('/home/RobertoPacho/Documentos/IA/Tareas_IA_SE/Proyecto/imagenes/stone_block.png')\n",
    "#brick_texture= load_texture('/home/RobertoPacho/Documentos/IA/Tareas_IA_SE/Proyecto/imagenes/brick_block.png')\n",
    "#dirt_texture= load_texture('/home/RobertoPacho/Documentos/IA/Tareas_IA_SE/Proyecto/imagenes/dirt_block.png')\n",
    "class Voxel(Button):\n",
    "    def __init__(self,position=(0,0,0)):\n",
    "        super().__init__(\n",
    "            parent=scene,\n",
    "            position=position,\n",
    "            model='cube',\n",
    "            origin_y=0.5,\n",
    "            texture=grass_texture, #'white_cube',\n",
    "            color=color.white,\n",
    "            highlight_color=color.lime\n",
    "            \n",
    "        )\n",
    "    def input(self,key):  #elevaciones de cajones\n",
    "        if self.hovered:\n",
    "            if key == 'left mouse down':\n",
    "                voxel=Voxel(position=self.position+mouse.normal)\n",
    "            if key == 'right mouse down':\n",
    "                destroy(self)\n",
    "                \n",
    "\n",
    "for z in range(20):\n",
    "    for x in range(20):\n",
    "        voxel=Voxel(position=(x,0,z))\n",
    "player=FirstPersonController()\n",
    "app.run()"
   ]
  },
  {
   "cell_type": "markdown",
   "metadata": {},
   "source": [
    "#/home/RobertoPacho/Documentos/IA/Tareas_IA_SE/Proyecto/imagenes/grass_block.png\n"
   ]
  },
  {
   "cell_type": "code",
   "execution_count": null,
   "metadata": {},
   "outputs": [],
   "source": []
  }
 ],
 "metadata": {
  "kernelspec": {
   "display_name": "Python 3",
   "language": "python",
   "name": "python3"
  },
  "language_info": {
   "codemirror_mode": {
    "name": "ipython",
    "version": 3
   },
   "file_extension": ".py",
   "mimetype": "text/x-python",
   "name": "python",
   "nbconvert_exporter": "python",
   "pygments_lexer": "ipython3",
   "version": "3.8.5"
  }
 },
 "nbformat": 4,
 "nbformat_minor": 4
}
