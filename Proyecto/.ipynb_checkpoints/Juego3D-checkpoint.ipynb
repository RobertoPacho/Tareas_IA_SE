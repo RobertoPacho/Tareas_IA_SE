{
 "cells": [
  {
   "cell_type": "code",
   "execution_count": 1,
   "metadata": {
    "scrolled": false
   },
   "outputs": [
    {
     "name": "stdout",
     "output_type": "stream",
     "text": [
      "ursina version: 3.4.0\n",
      "package_folder: /home/RobertoPacho/anaconda3/lib/python3.8/site-packages/ursina\n",
      "asset_folder: /home/RobertoPacho/anaconda3/lib/python3.8/site-packages\n",
      "blender_paths:\n",
      "{}\n",
      "OS: posix\n",
      "screen resolution: (1920, 1080)\n"
     ]
    }
   ],
   "source": [
    "from ursina import *\n",
    "from ursina.prefabs.first_person_controller import FirstPersonController #simulador de una persona\n",
    "\n",
    "#grass_texture= load_texture('imagenes/grass_block.png')\n",
    "#stone_texture= load_texture('/home/RobertoPacho/Documentos/IA/Tareas_IA_SE/Proyecto/imagenes/stone_block.png')\n",
    "#brick_texture= load_texture('/home/RobertoPacho/Documentos/IA/Tareas_IA_SE/Proyecto/imagenes/brick_block.png')\n",
    "#dirt_texture= load_texture('/home/RobertoPacho/Documentos/IA/Tareas_IA_SE/Proyecto/imagenes/dirt_block.png')\n",
    "class Voxel(Button):\n",
    "    def __init__(self,position=(0,0,0)):\n",
    "        super().__init__(\n",
    "            parent=scene,\n",
    "            position=position,\n",
    "            model='cube',\n",
    "            origin_y=0.5,\n",
    "            texture='white_cube',\n",
    "            color=color.white,\n",
    "            highlight_color=color.lime\n",
    "            \n",
    "        )\n",
    "    def input(self,key):  #elevaciones de cajones\n",
    "        if self.hovered:\n",
    "            if key == 'left mouse down':\n",
    "                voxel=Voxel(position=self.position+mouse.normal)\n",
    "            if key == 'right mouse down':\n",
    "                destroy(self)\n"
   ]
  },
  {
   "cell_type": "code",
   "execution_count": null,
   "metadata": {},
   "outputs": [
    {
     "name": "stdout",
     "output_type": "stream",
     "text": [
      "size; LVector2f(1536, 864)\n",
      "render mode: default\n",
      "no settings.py file\n",
      "no settings.py file\n",
      "development mode: True\n",
      "application successfully started\n",
      "no filter quad\n",
      "changed aspect ratio: 1.777 -> 1.778\n"
     ]
    }
   ],
   "source": [
    "from neo4j import GraphDatabase\n",
    "from tkinter import *\n",
    "import tkinter.font as tkFont\n",
    "\n",
    "\n",
    "root = Tk()\n",
    "root.title(\"LOGIN IA\")\n",
    "root.geometry('400x400')\n",
    "root.resizable(width=0, height=0)\n",
    "fontStyle = tkFont.Font(family=\"Lucida Grande\", size=12)\n",
    "fontStyle1 = tkFont.Font(family=\"Lucida Grande\", size=30)\n",
    "fontStyle2 = tkFont.Font(family=\"Lucida Grande\", size=15)\n",
    "\n",
    "eusuario=Label(root,text='LOGIN', font=fontStyle1)\n",
    "eusuario.place(x=150,y=20)\n",
    "\n",
    "eusuario=Label(root,text='Usuario', font=fontStyle)\n",
    "eusuario.place(x=50,y=100)\n",
    "usuario = Entry(root, fg='black', bg='white', justify='center')\n",
    "usuario.place(x=110, y=100, width=200)           \n",
    "\n",
    "eedad=Label(root,text='Edad: ', font=fontStyle)\n",
    "eedad.place(x=50,y=150)\n",
    "edad = Entry(root, fg='black', bg='white', justify='center')\n",
    "edad.place(x=110, y=150, width=100)\n",
    "\n",
    "epais=Label(root,text='Ciudad/Pais: ', font=fontStyle)\n",
    "epais.place(x=50,y=200)\n",
    "pais = Entry(root, fg='black', bg='white', justify='center')\n",
    "pais.place(x=110, y=200, width=200)\n",
    "\n",
    "ecorreo=Label(root,text='correo', font=fontStyle)\n",
    "ecorreo.place(x=50,y=250)\n",
    "correo = Entry(root, fg='black', bg='white', justify='center')\n",
    "correo.place(x=110, y=250, width=200) \n",
    "\n",
    "class Neo4jService(object):\n",
    "\n",
    "    def __init__(self, uri, user, password):\n",
    "        self._driver = GraphDatabase.driver(uri, auth=(user, password))\n",
    "\n",
    "    def close(self):\n",
    "        self._driver.close() \n",
    "        \n",
    "    def crear_usuario(self, tx, nombre1, edad1, porcentaje1):\n",
    "        tx.run(\"CREATE (cliente:Persona {name:$nombre1, edad:$edad1 ,porcentaje:$porcen1 })\", \n",
    "               nombre1=nombre1,edad1=edad1,porcen1=porcentaje1)\n",
    "    \n",
    "def jugar():              \n",
    "    app= Ursina()\n",
    "    for z in range(20):\n",
    "        for x in range(20):\n",
    "            voxel=Voxel(position=(x,0,z))\n",
    "\n",
    "\n",
    "    player=FirstPersonController()\n",
    "    app.run()\n",
    "    \n",
    "btn1 = Button(root, text=\"Ingresar\", bg=\"MediumAquamarine\", fg=\"white\", height = 2, width = 15,font=fontStyle2,command=jugar)\n",
    "btn1.place(x=120, y=300)\n",
    "root.mainloop()"
   ]
  },
  {
   "cell_type": "markdown",
   "metadata": {},
   "source": [
    "#/home/RobertoPacho/Documentos/IA/Tareas_IA_SE/Proyecto/imagenes/grass_block.png\n"
   ]
  },
  {
   "cell_type": "code",
   "execution_count": null,
   "metadata": {},
   "outputs": [],
   "source": []
  }
 ],
 "metadata": {
  "kernelspec": {
   "display_name": "Python 3",
   "language": "python",
   "name": "python3"
  },
  "language_info": {
   "codemirror_mode": {
    "name": "ipython",
    "version": 3
   },
   "file_extension": ".py",
   "mimetype": "text/x-python",
   "name": "python",
   "nbconvert_exporter": "python",
   "pygments_lexer": "ipython3",
   "version": "3.8.5"
  }
 },
 "nbformat": 4,
 "nbformat_minor": 4
}
