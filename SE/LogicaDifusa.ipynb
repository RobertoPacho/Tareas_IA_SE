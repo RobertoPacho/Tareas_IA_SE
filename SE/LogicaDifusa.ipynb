{
 "cells": [
  {
   "cell_type": "code",
   "execution_count": null,
   "metadata": {},
   "outputs": [],
   "source": []
  },
  {
   "cell_type": "code",
   "execution_count": null,
   "metadata": {},
   "outputs": [],
   "source": []
  },
  {
   "cell_type": "code",
   "execution_count": null,
   "metadata": {},
   "outputs": [
    {
     "name": "stdout",
     "output_type": "stream",
     "text": [
      "| Temperatura | Humedad | RPM Motor\n",
      "| Baja | Alta | Baja\n",
      "| Media | Alta | Media\n",
      "| Alta | Alta | Media\n",
      "| Baja | Media | Baja\n",
      "| Media | Media | Baja\n",
      "| Alta | Media | Media\n",
      "| Baja | Baja | Baja\n",
      "| Media | Baja | Baja\n",
      "| Alta | Baja | Alta\n",
      "GRAFICA TEMPERATURA\n",
      "el valor ingresado es  BAJA>>  7 1\n"
     ]
    },
    {
     "data": {
      "image/png": "[encoded data removed]",
      "text/plain": [
       "<Figure size 432x288 with 1 Axes>"
      ]
     },
     "metadata": {
      "needs_background": "light"
     },
     "output_type": "display_data"
    },
    {
     "name": "stdout",
     "output_type": "stream",
     "text": [
      " GRAFICA HUMEDAD\n"
     ]
    },
    {
     "data": {
      "image/png": "[encoded data removed]",
      "text/plain": [
       "<Figure size 432x288 with 1 Axes>"
      ]
     },
     "metadata": {
      "needs_background": "light"
     },
     "output_type": "display_data"
    },
    {
     "name": "stdout",
     "output_type": "stream",
     "text": [
      "valores: 52\n"
     ]
    }
   ],
   "source": [
    "from tkinter import messagebox, ttk\n",
    "from tkinter import *\n",
    "import tkinter\n",
    "import matplotlib.pyplot as plt\n",
    "import numpy as np\n",
    "\n",
    "tabla = ([\"Temperatura\",\"Humedad\",\"RPM Motor\"],[\"Baja\",\"Alta\",\"Baja\"],[\"Media\",\"Alta\",\"Media\"],[\"Alta\",\"Alta\",\"Media\"],[\"Baja\",\"Media\",\"Baja\"],\n",
    "         [\"Media\",\"Media\",\"Baja\"],[\"Alta\",\"Media\",\"Media\"],[\"Baja\",\"Baja\",\"Baja\"],\n",
    "         [\"Media\",\"Baja\",\"Baja\"],[\"Alta\",\"Baja\",\"Alta\"])\n",
    "\n",
    "a = 0\n",
    "b = 0\n",
    "\n",
    "root = tkinter.Tk()\n",
    "root.title(\"LOGICA DIFUSA\")\n",
    "root.geometry(\"400x300\")\n",
    "\n",
    "\n",
    "etomo=Label(root,text=\"TEMPERATURA\")\n",
    "etomo.place(x=50,y=10)\n",
    "\n",
    "frame1 = ttk.Frame(root, width=80, height=30)\n",
    "frame1.place(x=30,y=30)\n",
    "\n",
    "\n",
    "scrollbar = Scrollbar(frame1)\n",
    "scrollbar.pack( side = RIGHT, fill = Y )\n",
    "\n",
    "mylist = Listbox(frame1, yscrollcommand = scrollbar.set )\n",
    "for line in range(101):\n",
    "    mylist.insert(END, str(line))\n",
    "\n",
    "mylist.pack( side = LEFT, fill = BOTH )\n",
    "scrollbar.config( command = mylist.yview )\n",
    "\n",
    "\n",
    "\n",
    "etomo=Label(root,text=\"HUMEDAD\")\n",
    "etomo.place(x=250,y=10)\n",
    "\n",
    "frame2 = ttk.Frame(root, width=80, height=30)\n",
    "frame2.place(x=200,y=30)\n",
    "\n",
    "\n",
    "scrollbar1 = Scrollbar(frame2)\n",
    "scrollbar1.pack( side = RIGHT, fill = Y )\n",
    "\n",
    "mylist1 = Listbox(frame2, yscrollcommand = scrollbar1.set )\n",
    "for line in range(10,100,5):\n",
    "    mylist1.insert(END, str(line))\n",
    "\n",
    "mylist1.pack( side = LEFT, fill = BOTH )\n",
    "scrollbar1.config( command = mylist1.yview )\n",
    "\n",
    "valores= ([])\n",
    "valoresh= ([])\n",
    "def temperaturafun():\n",
    "    global a\n",
    "    print(\"GRAFICA TEMPERATURA\")\n",
    "    listax = [0,1,2,3,4,5,6,7,8,9,10,11,12,13,14,15,16,17,18,19,20, 10,11,12,13,14,15,16,17,18,19,20,21,22,23,24,25,26,27,28,29,30,31,32,33,34,35,36,37,38,39,40,41,42,43,44,45,46,47,48,49,50, 40,41,42,43,44,45,46,47,48,49,50,51,52,53,54,55,56,57,58,59,60]\n",
    "    listay = [1,1,1,1,1,1,1,1,1,1,1,0.9,0.8,0.7,0.6,0.5,0.4,0.3,0.2,0.1,0, 0,0.1,0.2,0.3,0.4,0.5,0.6,0.7,0.8,0.9,1,1,1,1,1,1,1,1,1,1,1,1,1,1,1,1,1,1,1,1,1,0.9,0.8,0.7,0.6,0.5,0.4,0.3,0.2,0.1,0, 0,0.1,0.2,0.3,0.4,0.5,0.6,0.7,0.8,0.9,1,1,1,1,1,1,1,1,1,1,1]\n",
    "    plt.plot(listax[:21], listay[:21], lw=5,label=\"Baja\")\n",
    "    plt.plot(listax[21:62], listay[21:62], lw=5, label=\"Media\")\n",
    "    plt.plot(listax[62:], listay[62:], lw=5, label=\"Alta\")  \n",
    "    plt.axis([min(listax),max(listax),min(listay),max(listay)])\n",
    "    plt.grid()\n",
    "    plt.legend(loc=\"lower right\", title=\"Legend Title\", frameon=False)     \n",
    "\n",
    "    a = int(mylist.get(int(mylist.curselection()[0])))   \n",
    "    #SE BUSCA EL VALOR INGRESADO EN EL VECTOR DE X ESTA EN T BAJA\n",
    "    cont=0\n",
    "    for lx in listax[:21]:        \n",
    "        if int(lx) == int(a):\n",
    "            print(\"el valor ingresado es  BAJA>> \",lx,listay[cont])\n",
    "            valores.insert(0,[\"Baja\",listay[cont]])\n",
    "        cont =cont +1   \n",
    "    #SE BUSCA EL VALOR INGRESADO EN EL VECTOR DE X ESTA EN T MEDIA\n",
    "    cont1=0\n",
    "    lisyn = listay[21:62]\n",
    "    for lx in listax[21:62]:  \n",
    "        if int(lx) == int(a):\n",
    "            print(\"el valor ingresado es  MEDIA>> \",lx,lisyn[cont1])\n",
    "            valores.insert(1,[\"Media\",lisyn[cont1]])\n",
    "        cont1 = cont1 +1   \n",
    "    #SE BUSCA EL VALOR INGRESADO EN EL VECTOR DE X ESTA T ALTA\n",
    "    cont=0\n",
    "    lista = listay[62:]\n",
    "    for lx in listax[62:]:        \n",
    "        if int(lx) == int(a):\n",
    "            print(\"el valor ingresado es  ALTO >> \",lx,lista[cont])\n",
    "            valores.insert(2,[\"Alta\",lista[cont]])\n",
    "        cont =cont +1          \n",
    "    plt.axvline(int(a), label='pyplot vertical line',color='red') \n",
    "    plt.show() \n",
    "    \n",
    "def humedadfun():\n",
    "    global b\n",
    "    print(\" GRAFICA HUMEDAD\")\n",
    "    listax = [70, 60, 50,60, 50, 30, 20, 30,20,10]\n",
    "    listay = [1, 1, 0, 0, 1, 1, 0, 0, 1, 1]\n",
    "    plt.plot(listax[:30], listay[:30], lw=50,label=\"Alta\")\n",
    "    plt.plot(listax[30:70], listay[30:70], lw=50, label=\"Media\")\n",
    "    plt.plot(listax[70:], listay[70:], lw=50, label=\"Baja\")\n",
    "    plt.axis([max(listax),min(listax),min(listay),max(listay)])\n",
    "    plt.grid()\n",
    "    plt.legend(loc=\"lower right\", title=\"Legend Title\", frameon=False)\n",
    "    b = int(mylist1.get(int(mylist1.curselection()[0])))\n",
    "    plt.axvline(int(b), label='pyplot vertical line',color='red')\n",
    "    #SE BUSCA EL VALOR INGRESADO EN EL VECTOR DE X ESTA T ALTA\n",
    "    cont=0\n",
    "    lista = listay[:30]\n",
    "    for lx in listax[:30]:        \n",
    "        if int(lx) == int(b):\n",
    "            print(\"el valor ingresado es  ALTO >> \",lx,lista[cont])\n",
    "            valoresh.insert(0,[\"Alta\",lista[cont]])\n",
    "\n",
    "        cont =cont +1 \n",
    "    #SE BUSCA EL VALOR INGRESADO EN EL VECTOR DE X ESTA EN T MEDIA\n",
    "    cont1=0\n",
    "    lisyn = listay[30:70]\n",
    "    for lx in listax[30:70]:  \n",
    "        if int(lx) == int(b):\n",
    "            print(\"el valor ingresado es  MEDIO>> \",lx,lisyn[cont1])\n",
    "            valoresh.insert(1,[\"Media\",lisyn[cont1]])\n",
    "\n",
    "        cont1 = cont1 +1 \n",
    "        \n",
    "    #SE BUSCA EL VALOR INGRESADO EN EL VECTOR DE X ESTA EN T BAJA\n",
    "    cont=0\n",
    "    for lx in listax[70:]:        \n",
    "        if int(lx) == int(b):\n",
    "            print(\"el valor ingresado es  BAJO>> \",lx,listay[cont])\n",
    "            valoresh.insert(2,[\"Baja\",listay[cont]])\n",
    "\n",
    "        cont =cont +1   \n",
    "    plt.axvline(int(b), label='pyplot vertical line',color='black') \n",
    "    plt.show()\n",
    "    \n",
    "def valoresfun():\n",
    "    #valores= ([])\n",
    "    #valoresh= ([])\n",
    "    #temperaturafun()\n",
    "    #humedadfun()\n",
    "    global a\n",
    "    global b\n",
    "    velocidadgiro=a+b\n",
    "    \n",
    "    etomo=Label(root,text=\"La velocidad de giro es de : \"+str(velocidadgiro)+\"RPM\")\n",
    "    etomo.place(x=100,y=280)\n",
    "    print(\"valores: \" + str(velocidadgiro) ) \n",
    "\n",
    "\n",
    "boton1= Button(root, text=\"Ver Grafica Temp\", command=temperaturafun)\n",
    "boton1.place(x=50,y=200)\n",
    "boton2= Button(root, text=\"Ver Grafica Hume\", command=humedadfun)\n",
    "boton2.place(x=200,y=200)\n",
    "\n",
    "boton3= Button(root, text=\"Ver Motor\", command=valoresfun)\n",
    "boton3.place(x=150,y=250)\n",
    "\n",
    "root.mainloop()"
   ]
  },
  {
   "cell_type": "code",
   "execution_count": 1,
   "metadata": {},
   "outputs": [
    {
     "name": "stdout",
     "output_type": "stream",
     "text": [
      "GRAFICA TEMPERATURA\n"
     ]
    },
    {
     "ename": "NameError",
     "evalue": "name 'plt' is not defined",
     "output_type": "error",
     "traceback": [
      "\u001b[0;31m---------------------------------------------------------------------------\u001b[0m",
      "\u001b[0;31mNameError\u001b[0m                                 Traceback (most recent call last)",
      "\u001b[0;32m<ipython-input-1-2b0a1c04246e>\u001b[0m in \u001b[0;36m<module>\u001b[0;34m\u001b[0m\n\u001b[1;32m      2\u001b[0m \u001b[0mlistax\u001b[0m \u001b[0;34m=\u001b[0m \u001b[0;34m[\u001b[0m\u001b[0;36m0\u001b[0m\u001b[0;34m,\u001b[0m\u001b[0;36m1\u001b[0m\u001b[0;34m,\u001b[0m\u001b[0;36m2\u001b[0m\u001b[0;34m,\u001b[0m\u001b[0;36m3\u001b[0m\u001b[0;34m,\u001b[0m\u001b[0;36m4\u001b[0m\u001b[0;34m,\u001b[0m\u001b[0;36m5\u001b[0m\u001b[0;34m,\u001b[0m\u001b[0;36m6\u001b[0m\u001b[0;34m,\u001b[0m\u001b[0;36m7\u001b[0m\u001b[0;34m,\u001b[0m\u001b[0;36m8\u001b[0m\u001b[0;34m,\u001b[0m\u001b[0;36m9\u001b[0m\u001b[0;34m,\u001b[0m\u001b[0;36m10\u001b[0m\u001b[0;34m,\u001b[0m\u001b[0;36m11\u001b[0m\u001b[0;34m,\u001b[0m\u001b[0;36m12\u001b[0m\u001b[0;34m,\u001b[0m\u001b[0;36m13\u001b[0m\u001b[0;34m,\u001b[0m\u001b[0;36m14\u001b[0m\u001b[0;34m,\u001b[0m\u001b[0;36m15\u001b[0m\u001b[0;34m,\u001b[0m\u001b[0;36m16\u001b[0m\u001b[0;34m,\u001b[0m\u001b[0;36m17\u001b[0m\u001b[0;34m,\u001b[0m\u001b[0;36m18\u001b[0m\u001b[0;34m,\u001b[0m\u001b[0;36m19\u001b[0m\u001b[0;34m,\u001b[0m\u001b[0;36m20\u001b[0m\u001b[0;34m,\u001b[0m \u001b[0;36m10\u001b[0m\u001b[0;34m,\u001b[0m\u001b[0;36m11\u001b[0m\u001b[0;34m,\u001b[0m\u001b[0;36m12\u001b[0m\u001b[0;34m,\u001b[0m\u001b[0;36m13\u001b[0m\u001b[0;34m,\u001b[0m\u001b[0;36m14\u001b[0m\u001b[0;34m,\u001b[0m\u001b[0;36m15\u001b[0m\u001b[0;34m,\u001b[0m\u001b[0;36m16\u001b[0m\u001b[0;34m,\u001b[0m\u001b[0;36m17\u001b[0m\u001b[0;34m,\u001b[0m\u001b[0;36m18\u001b[0m\u001b[0;34m,\u001b[0m\u001b[0;36m19\u001b[0m\u001b[0;34m,\u001b[0m\u001b[0;36m20\u001b[0m\u001b[0;34m,\u001b[0m\u001b[0;36m21\u001b[0m\u001b[0;34m,\u001b[0m\u001b[0;36m22\u001b[0m\u001b[0;34m,\u001b[0m\u001b[0;36m23\u001b[0m\u001b[0;34m,\u001b[0m\u001b[0;36m24\u001b[0m\u001b[0;34m,\u001b[0m\u001b[0;36m25\u001b[0m\u001b[0;34m,\u001b[0m\u001b[0;36m26\u001b[0m\u001b[0;34m,\u001b[0m\u001b[0;36m27\u001b[0m\u001b[0;34m,\u001b[0m\u001b[0;36m28\u001b[0m\u001b[0;34m,\u001b[0m\u001b[0;36m29\u001b[0m\u001b[0;34m,\u001b[0m\u001b[0;36m30\u001b[0m\u001b[0;34m,\u001b[0m\u001b[0;36m31\u001b[0m\u001b[0;34m,\u001b[0m\u001b[0;36m32\u001b[0m\u001b[0;34m,\u001b[0m\u001b[0;36m33\u001b[0m\u001b[0;34m,\u001b[0m\u001b[0;36m34\u001b[0m\u001b[0;34m,\u001b[0m\u001b[0;36m35\u001b[0m\u001b[0;34m,\u001b[0m\u001b[0;36m36\u001b[0m\u001b[0;34m,\u001b[0m\u001b[0;36m37\u001b[0m\u001b[0;34m,\u001b[0m\u001b[0;36m38\u001b[0m\u001b[0;34m,\u001b[0m\u001b[0;36m39\u001b[0m\u001b[0;34m,\u001b[0m\u001b[0;36m40\u001b[0m\u001b[0;34m,\u001b[0m\u001b[0;36m41\u001b[0m\u001b[0;34m,\u001b[0m\u001b[0;36m42\u001b[0m\u001b[0;34m,\u001b[0m\u001b[0;36m43\u001b[0m\u001b[0;34m,\u001b[0m\u001b[0;36m44\u001b[0m\u001b[0;34m,\u001b[0m\u001b[0;36m45\u001b[0m\u001b[0;34m,\u001b[0m\u001b[0;36m46\u001b[0m\u001b[0;34m,\u001b[0m\u001b[0;36m47\u001b[0m\u001b[0;34m,\u001b[0m\u001b[0;36m48\u001b[0m\u001b[0;34m,\u001b[0m\u001b[0;36m49\u001b[0m\u001b[0;34m,\u001b[0m\u001b[0;36m50\u001b[0m\u001b[0;34m,\u001b[0m \u001b[0;36m40\u001b[0m\u001b[0;34m,\u001b[0m\u001b[0;36m41\u001b[0m\u001b[0;34m,\u001b[0m\u001b[0;36m42\u001b[0m\u001b[0;34m,\u001b[0m\u001b[0;36m43\u001b[0m\u001b[0;34m,\u001b[0m\u001b[0;36m44\u001b[0m\u001b[0;34m,\u001b[0m\u001b[0;36m45\u001b[0m\u001b[0;34m,\u001b[0m\u001b[0;36m46\u001b[0m\u001b[0;34m,\u001b[0m\u001b[0;36m47\u001b[0m\u001b[0;34m,\u001b[0m\u001b[0;36m48\u001b[0m\u001b[0;34m,\u001b[0m\u001b[0;36m49\u001b[0m\u001b[0;34m,\u001b[0m\u001b[0;36m50\u001b[0m\u001b[0;34m,\u001b[0m\u001b[0;36m51\u001b[0m\u001b[0;34m,\u001b[0m\u001b[0;36m52\u001b[0m\u001b[0;34m,\u001b[0m\u001b[0;36m53\u001b[0m\u001b[0;34m,\u001b[0m\u001b[0;36m54\u001b[0m\u001b[0;34m,\u001b[0m\u001b[0;36m55\u001b[0m\u001b[0;34m,\u001b[0m\u001b[0;36m56\u001b[0m\u001b[0;34m,\u001b[0m\u001b[0;36m57\u001b[0m\u001b[0;34m,\u001b[0m\u001b[0;36m58\u001b[0m\u001b[0;34m,\u001b[0m\u001b[0;36m59\u001b[0m\u001b[0;34m,\u001b[0m\u001b[0;36m60\u001b[0m\u001b[0;34m]\u001b[0m\u001b[0;34m\u001b[0m\u001b[0;34m\u001b[0m\u001b[0m\n\u001b[1;32m      3\u001b[0m \u001b[0mlistay\u001b[0m \u001b[0;34m=\u001b[0m \u001b[0;34m[\u001b[0m\u001b[0;36m1\u001b[0m\u001b[0;34m,\u001b[0m\u001b[0;36m1\u001b[0m\u001b[0;34m,\u001b[0m\u001b[0;36m1\u001b[0m\u001b[0;34m,\u001b[0m\u001b[0;36m1\u001b[0m\u001b[0;34m,\u001b[0m\u001b[0;36m1\u001b[0m\u001b[0;34m,\u001b[0m\u001b[0;36m1\u001b[0m\u001b[0;34m,\u001b[0m\u001b[0;36m1\u001b[0m\u001b[0;34m,\u001b[0m\u001b[0;36m1\u001b[0m\u001b[0;34m,\u001b[0m\u001b[0;36m1\u001b[0m\u001b[0;34m,\u001b[0m\u001b[0;36m1\u001b[0m\u001b[0;34m,\u001b[0m\u001b[0;36m1\u001b[0m\u001b[0;34m,\u001b[0m\u001b[0;36m0.9\u001b[0m\u001b[0;34m,\u001b[0m\u001b[0;36m0.8\u001b[0m\u001b[0;34m,\u001b[0m\u001b[0;36m0.7\u001b[0m\u001b[0;34m,\u001b[0m\u001b[0;36m0.6\u001b[0m\u001b[0;34m,\u001b[0m\u001b[0;36m0.5\u001b[0m\u001b[0;34m,\u001b[0m\u001b[0;36m0.4\u001b[0m\u001b[0;34m,\u001b[0m\u001b[0;36m0.3\u001b[0m\u001b[0;34m,\u001b[0m\u001b[0;36m0.2\u001b[0m\u001b[0;34m,\u001b[0m\u001b[0;36m0.1\u001b[0m\u001b[0;34m,\u001b[0m\u001b[0;36m0\u001b[0m\u001b[0;34m,\u001b[0m \u001b[0;36m0\u001b[0m\u001b[0;34m,\u001b[0m\u001b[0;36m0.1\u001b[0m\u001b[0;34m,\u001b[0m\u001b[0;36m0.2\u001b[0m\u001b[0;34m,\u001b[0m\u001b[0;36m0.3\u001b[0m\u001b[0;34m,\u001b[0m\u001b[0;36m0.4\u001b[0m\u001b[0;34m,\u001b[0m\u001b[0;36m0.5\u001b[0m\u001b[0;34m,\u001b[0m\u001b[0;36m0.6\u001b[0m\u001b[0;34m,\u001b[0m\u001b[0;36m0.7\u001b[0m\u001b[0;34m,\u001b[0m\u001b[0;36m0.8\u001b[0m\u001b[0;34m,\u001b[0m\u001b[0;36m0.9\u001b[0m\u001b[0;34m,\u001b[0m\u001b[0;36m1\u001b[0m\u001b[0;34m,\u001b[0m\u001b[0;36m1\u001b[0m\u001b[0;34m,\u001b[0m\u001b[0;36m1\u001b[0m\u001b[0;34m,\u001b[0m\u001b[0;36m1\u001b[0m\u001b[0;34m,\u001b[0m\u001b[0;36m1\u001b[0m\u001b[0;34m,\u001b[0m\u001b[0;36m1\u001b[0m\u001b[0;34m,\u001b[0m\u001b[0;36m1\u001b[0m\u001b[0;34m,\u001b[0m\u001b[0;36m1\u001b[0m\u001b[0;34m,\u001b[0m\u001b[0;36m1\u001b[0m\u001b[0;34m,\u001b[0m\u001b[0;36m1\u001b[0m\u001b[0;34m,\u001b[0m\u001b[0;36m1\u001b[0m\u001b[0;34m,\u001b[0m\u001b[0;36m1\u001b[0m\u001b[0;34m,\u001b[0m\u001b[0;36m1\u001b[0m\u001b[0;34m,\u001b[0m\u001b[0;36m1\u001b[0m\u001b[0;34m,\u001b[0m\u001b[0;36m1\u001b[0m\u001b[0;34m,\u001b[0m\u001b[0;36m1\u001b[0m\u001b[0;34m,\u001b[0m\u001b[0;36m1\u001b[0m\u001b[0;34m,\u001b[0m\u001b[0;36m1\u001b[0m\u001b[0;34m,\u001b[0m\u001b[0;36m1\u001b[0m\u001b[0;34m,\u001b[0m\u001b[0;36m1\u001b[0m\u001b[0;34m,\u001b[0m\u001b[0;36m1\u001b[0m\u001b[0;34m,\u001b[0m\u001b[0;36m0.9\u001b[0m\u001b[0;34m,\u001b[0m\u001b[0;36m0.8\u001b[0m\u001b[0;34m,\u001b[0m\u001b[0;36m0.7\u001b[0m\u001b[0;34m,\u001b[0m\u001b[0;36m0.6\u001b[0m\u001b[0;34m,\u001b[0m\u001b[0;36m0.5\u001b[0m\u001b[0;34m,\u001b[0m\u001b[0;36m0.4\u001b[0m\u001b[0;34m,\u001b[0m\u001b[0;36m0.3\u001b[0m\u001b[0;34m,\u001b[0m\u001b[0;36m0.2\u001b[0m\u001b[0;34m,\u001b[0m\u001b[0;36m0.1\u001b[0m\u001b[0;34m,\u001b[0m\u001b[0;36m0\u001b[0m\u001b[0;34m,\u001b[0m \u001b[0;36m0\u001b[0m\u001b[0;34m,\u001b[0m\u001b[0;36m0.1\u001b[0m\u001b[0;34m,\u001b[0m\u001b[0;36m0.2\u001b[0m\u001b[0;34m,\u001b[0m\u001b[0;36m0.3\u001b[0m\u001b[0;34m,\u001b[0m\u001b[0;36m0.4\u001b[0m\u001b[0;34m,\u001b[0m\u001b[0;36m0.5\u001b[0m\u001b[0;34m,\u001b[0m\u001b[0;36m0.6\u001b[0m\u001b[0;34m,\u001b[0m\u001b[0;36m0.7\u001b[0m\u001b[0;34m,\u001b[0m\u001b[0;36m0.8\u001b[0m\u001b[0;34m,\u001b[0m\u001b[0;36m0.9\u001b[0m\u001b[0;34m,\u001b[0m\u001b[0;36m1\u001b[0m\u001b[0;34m,\u001b[0m\u001b[0;36m1\u001b[0m\u001b[0;34m,\u001b[0m\u001b[0;36m1\u001b[0m\u001b[0;34m,\u001b[0m\u001b[0;36m1\u001b[0m\u001b[0;34m,\u001b[0m\u001b[0;36m1\u001b[0m\u001b[0;34m,\u001b[0m\u001b[0;36m1\u001b[0m\u001b[0;34m,\u001b[0m\u001b[0;36m1\u001b[0m\u001b[0;34m,\u001b[0m\u001b[0;36m1\u001b[0m\u001b[0;34m,\u001b[0m\u001b[0;36m1\u001b[0m\u001b[0;34m,\u001b[0m\u001b[0;36m1\u001b[0m\u001b[0;34m,\u001b[0m\u001b[0;36m1\u001b[0m\u001b[0;34m]\u001b[0m\u001b[0;34m\u001b[0m\u001b[0;34m\u001b[0m\u001b[0m\n\u001b[0;32m----> 4\u001b[0;31m \u001b[0mplt\u001b[0m\u001b[0;34m.\u001b[0m\u001b[0mplot\u001b[0m\u001b[0;34m(\u001b[0m\u001b[0mlistax\u001b[0m\u001b[0;34m[\u001b[0m\u001b[0;34m:\u001b[0m\u001b[0;36m21\u001b[0m\u001b[0;34m]\u001b[0m\u001b[0;34m,\u001b[0m \u001b[0mlistay\u001b[0m\u001b[0;34m[\u001b[0m\u001b[0;34m:\u001b[0m\u001b[0;36m21\u001b[0m\u001b[0;34m]\u001b[0m\u001b[0;34m,\u001b[0m \u001b[0mlw\u001b[0m\u001b[0;34m=\u001b[0m\u001b[0;36m5\u001b[0m\u001b[0;34m,\u001b[0m\u001b[0mlabel\u001b[0m\u001b[0;34m=\u001b[0m\u001b[0;34m\"Baja\"\u001b[0m\u001b[0;34m)\u001b[0m\u001b[0;34m\u001b[0m\u001b[0;34m\u001b[0m\u001b[0m\n\u001b[0m\u001b[1;32m      5\u001b[0m \u001b[0mplt\u001b[0m\u001b[0;34m.\u001b[0m\u001b[0mplot\u001b[0m\u001b[0;34m(\u001b[0m\u001b[0mlistax\u001b[0m\u001b[0;34m[\u001b[0m\u001b[0;36m21\u001b[0m\u001b[0;34m:\u001b[0m\u001b[0;36m62\u001b[0m\u001b[0;34m]\u001b[0m\u001b[0;34m,\u001b[0m \u001b[0mlistay\u001b[0m\u001b[0;34m[\u001b[0m\u001b[0;36m21\u001b[0m\u001b[0;34m:\u001b[0m\u001b[0;36m62\u001b[0m\u001b[0;34m]\u001b[0m\u001b[0;34m,\u001b[0m \u001b[0mlw\u001b[0m\u001b[0;34m=\u001b[0m\u001b[0;36m5\u001b[0m\u001b[0;34m,\u001b[0m \u001b[0mlabel\u001b[0m\u001b[0;34m=\u001b[0m\u001b[0;34m\"Media\"\u001b[0m\u001b[0;34m)\u001b[0m\u001b[0;34m\u001b[0m\u001b[0;34m\u001b[0m\u001b[0m\n\u001b[1;32m      6\u001b[0m \u001b[0mplt\u001b[0m\u001b[0;34m.\u001b[0m\u001b[0mplot\u001b[0m\u001b[0;34m(\u001b[0m\u001b[0mlistax\u001b[0m\u001b[0;34m[\u001b[0m\u001b[0;36m62\u001b[0m\u001b[0;34m:\u001b[0m\u001b[0;34m]\u001b[0m\u001b[0;34m,\u001b[0m \u001b[0mlistay\u001b[0m\u001b[0;34m[\u001b[0m\u001b[0;36m62\u001b[0m\u001b[0;34m:\u001b[0m\u001b[0;34m]\u001b[0m\u001b[0;34m,\u001b[0m \u001b[0mlw\u001b[0m\u001b[0;34m=\u001b[0m\u001b[0;36m5\u001b[0m\u001b[0;34m,\u001b[0m \u001b[0mlabel\u001b[0m\u001b[0;34m=\u001b[0m\u001b[0;34m\"Alta\"\u001b[0m\u001b[0;34m)\u001b[0m\u001b[0;34m\u001b[0m\u001b[0;34m\u001b[0m\u001b[0m\n",
      "\u001b[0;31mNameError\u001b[0m: name 'plt' is not defined"
     ]
    }
   ],
   "source": [
    "\n",
    "    print(\"GRAFICA TEMPERATURA\")\n",
    "    listax = [0,1,2,3,4,5,6,7,8,9,10,11,12,13,14,15,16,17,18,19,20, 10,11,12,13,14,15,16,17,18,19,20,21,22,23,24,25,26,27,28,29,30,31,32,33,34,35,36,37,38,39,40,41,42,43,44,45,46,47,48,49,50, 40,41,42,43,44,45,46,47,48,49,50,51,52,53,54,55,56,57,58,59,60]\n",
    "    listay = [1,1,1,1,1,1,1,1,1,1,1,0.9,0.8,0.7,0.6,0.5,0.4,0.3,0.2,0.1,0, 0,0.1,0.2,0.3,0.4,0.5,0.6,0.7,0.8,0.9,1,1,1,1,1,1,1,1,1,1,1,1,1,1,1,1,1,1,1,1,1,0.9,0.8,0.7,0.6,0.5,0.4,0.3,0.2,0.1,0, 0,0.1,0.2,0.3,0.4,0.5,0.6,0.7,0.8,0.9,1,1,1,1,1,1,1,1,1,1,1]\n",
    "    plt.plot(listax[:21], listay[:21], lw=5,label=\"Baja\")\n",
    "    plt.plot(listax[21:62], listay[21:62], lw=5, label=\"Media\")\n",
    "    plt.plot(listax[62:], listay[62:], lw=5, label=\"Alta\")  \n",
    "    plt.axis([min(listax),max(listax),min(listay),max(listay)])\n",
    "    plt.grid()\n",
    "    plt.legend(loc=\"lower right\", title=\"Legend Title\", frameon=False)     \n",
    "\n",
    "    a = int(mylist.get(int(mylist.curselection()[0])))   \n",
    "    #SE BUSCA EL VALOR INGRESADO EN EL VECTOR DE X ESTA EN T BAJA\n",
    "    cont=0\n",
    "    for lx in listax[:21]:        \n",
    "        if int(lx) == int(a):\n",
    "            print(\"el valor ingresado es  BAJA>> \",lx,listay[cont])\n",
    "            valores.insert(0,[\"Baja\",listay[cont]])\n",
    "        cont =cont +1   \n",
    "    #SE BUSCA EL VALOR INGRESADO EN EL VECTOR DE X ESTA EN T MEDIA\n",
    "    cont1=0\n",
    "    lisyn = listay[21:62]\n",
    "    for lx in listax[21:62]:  \n",
    "        if int(lx) == int(a):\n",
    "            print(\"el valor ingresado es  MEDIA>> \",lx,lisyn[cont1])\n",
    "            valores.insert(1,[\"Media\",lisyn[cont1]])\n",
    "        cont1 = cont1 +1   \n",
    "    #SE BUSCA EL VALOR INGRESADO EN EL VECTOR DE X ESTA T ALTA\n",
    "    cont=0\n",
    "    lista = listay[62:]\n",
    "    for lx in listax[62:]:        \n",
    "        if int(lx) == int(a):\n",
    "            print(\"el valor ingresado es  ALTO >> \",lx,lista[cont])\n",
    "            valores.insert(2,[\"Alta\",lista[cont]])\n",
    "        cont =cont +1          \n",
    "    plt.axvline(int(a), label='pyplot vertical line',color='red') \n",
    "    plt.show() "
   ]
  },
  {
   "cell_type": "code",
   "execution_count": null,
   "metadata": {},
   "outputs": [],
   "source": []
  }
 ],
 "metadata": {
  "kernelspec": {
   "display_name": "Python 3",
   "language": "python",
   "name": "python3"
  },
  "language_info": {
   "codemirror_mode": {
    "name": "ipython",
    "version": 3
   },
   "file_extension": ".py",
   "mimetype": "text/x-python",
   "name": "python",
   "nbconvert_exporter": "python",
   "pygments_lexer": "ipython3",
   "version": "3.8.5"
  }
 },
 "nbformat": 4,
 "nbformat_minor": 4
}
