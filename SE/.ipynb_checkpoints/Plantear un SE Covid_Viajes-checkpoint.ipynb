{
 "cells": [
  {
   "cell_type": "markdown",
   "metadata": {},
   "source": [
    "# Plantear un SE Covid, Agencia Viajes \n",
    "\n",
    "<img src=\"img/parctica2.png\">\n",
    "\n",
    "1.\tEs un problema adecuado para la implementación de un S.E. \n",
    "\n",
    "Si ya que desarrollando un sistema experto para poder facilitar con opciones y decisiones adecuadas para que puedan viajar y que las personas se sientan seguras sin exponerse a contagios, así se podría combatir esta pandemia y evitar tantas muertes. \n",
    " \n",
    "2.\tPlantea una idea de cómo realizaría el proceso de adquisición de conocimiento.\n",
    "\n",
    "Para poder adquirir el conocimiento necesario para combatir la pandemia, utilizaríamos el proceso de búsqueda de Markov, siendo muy eficientes en la búsqueda y margen de error es asumible, de otro modo también podríamos implementar el método de búsqueda por amplitud. \n",
    " \n",
    "3.\t¿Qué estructura lógica cree que podría usar para implementar dicho sistema?.\n",
    "\n",
    "El sistema experto trata de imitar el pensamiento humano, su misión es comprender el comportamiento.\n",
    "\n",
    "Si logramos que el sistema experto logre realizar investigaciones para que tardaremos menos tiempo en dar una respuesta al cliente y ofertar el lugar adecuado para que puedan viajar las personas sin exponerse a contagios.\n",
    "\n",
    "\n",
    "<img src=\"img/es.png\">\n",
    "\n",
    "\n"
   ]
  },
  {
   "cell_type": "code",
   "execution_count": null,
   "metadata": {},
   "outputs": [],
   "source": []
  }
 ],
 "metadata": {
  "kernelspec": {
   "display_name": "Python 3",
   "language": "python",
   "name": "python3"
  },
  "language_info": {
   "codemirror_mode": {
    "name": "ipython",
    "version": 3
   },
   "file_extension": ".py",
   "mimetype": "text/x-python",
   "name": "python",
   "nbconvert_exporter": "python",
   "pygments_lexer": "ipython3",
   "version": "3.7.6"
  }
 },
 "nbformat": 4,
 "nbformat_minor": 4
}
